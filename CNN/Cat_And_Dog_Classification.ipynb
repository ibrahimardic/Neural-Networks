{
 "cells": [
  {
   "cell_type": "markdown",
   "id": "bdd91204",
   "metadata": {},
   "source": [
    "# Data Preprocessing"
   ]
  },
  {
   "cell_type": "code",
   "execution_count": 1,
   "id": "b9eb95f0",
   "metadata": {},
   "outputs": [
    {
     "name": "stderr",
     "output_type": "stream",
     "text": [
      "C:\\Users\\ibrah\\anaconda3\\lib\\site-packages\\scipy\\__init__.py:155: UserWarning: A NumPy version >=1.18.5 and <1.25.0 is required for this version of SciPy (detected version 1.26.4\n",
      "  warnings.warn(f\"A NumPy version >={np_minversion} and <{np_maxversion}\"\n"
     ]
    },
    {
     "name": "stdout",
     "output_type": "stream",
     "text": [
      "WARNING:tensorflow:From C:\\Users\\ibrah\\anaconda3\\lib\\site-packages\\keras\\src\\losses.py:2976: The name tf.losses.sparse_softmax_cross_entropy is deprecated. Please use tf.compat.v1.losses.sparse_softmax_cross_entropy instead.\n",
      "\n"
     ]
    }
   ],
   "source": [
    "import numpy as np\n",
    "import tensorflow as tf\n",
    "from tensorflow import keras\n",
    "from keras.preprocessing.image import ImageDataGenerator"
   ]
  },
  {
   "cell_type": "markdown",
   "id": "cd8e8243",
   "metadata": {},
   "source": [
    "### Training Dataset"
   ]
  },
  {
   "cell_type": "code",
   "execution_count": 2,
   "id": "710bea3f",
   "metadata": {},
   "outputs": [],
   "source": [
    "train_datagen = ImageDataGenerator(\n",
    "                rescale=1./255, # Feature scaling \n",
    "                shear_range = 0.2,\n",
    "                zoom_range = 0.2,\n",
    "                horizontal_flip=True) #Data Augmentation"
   ]
  },
  {
   "cell_type": "code",
   "execution_count": 3,
   "id": "546653c4",
   "metadata": {},
   "outputs": [
    {
     "name": "stdout",
     "output_type": "stream",
     "text": [
      "Found 8000 images belonging to 2 classes.\n"
     ]
    }
   ],
   "source": [
    "training_set = train_datagen.flow_from_directory('dataset/training_set',\n",
    "                                                target_size=(64,64),\n",
    "                                                batch_size= 32,\n",
    "                                                class_mode='binary') # Resizing the images, batching them and connecting training set to this train_datagen obj.\n",
    "                                                                    # Also class mode is going to be binary because we have only 2 different outcome.\n",
    "    "
   ]
  },
  {
   "cell_type": "markdown",
   "id": "431c3e6a",
   "metadata": {},
   "source": [
    "### Test Dataset"
   ]
  },
  {
   "cell_type": "code",
   "execution_count": 4,
   "id": "ebd89997",
   "metadata": {},
   "outputs": [],
   "source": [
    "test_datagen = ImageDataGenerator(rescale=1./255) # We are not going to apply transformations in test set."
   ]
  },
  {
   "cell_type": "code",
   "execution_count": 5,
   "id": "851c3b9a",
   "metadata": {},
   "outputs": [
    {
     "name": "stdout",
     "output_type": "stream",
     "text": [
      "Found 2000 images belonging to 2 classes.\n"
     ]
    }
   ],
   "source": [
    "test_set = test_datagen.flow_from_directory('dataset/test_set',\n",
    "                                                target_size=(64,64),\n",
    "                                                batch_size= 32,\n",
    "                                                class_mode='binary')"
   ]
  },
  {
   "cell_type": "markdown",
   "id": "8a0976c3",
   "metadata": {},
   "source": [
    "# Building the CNN"
   ]
  },
  {
   "cell_type": "code",
   "execution_count": 6,
   "id": "715d5260",
   "metadata": {},
   "outputs": [
    {
     "name": "stdout",
     "output_type": "stream",
     "text": [
      "WARNING:tensorflow:From C:\\Users\\ibrah\\anaconda3\\lib\\site-packages\\keras\\src\\backend.py:873: The name tf.get_default_graph is deprecated. Please use tf.compat.v1.get_default_graph instead.\n",
      "\n"
     ]
    }
   ],
   "source": [
    "cnn = tf.keras.models.Sequential()"
   ]
  },
  {
   "cell_type": "markdown",
   "id": "85b8d99c",
   "metadata": {},
   "source": [
    "### Convolution"
   ]
  },
  {
   "cell_type": "code",
   "execution_count": 7,
   "id": "4b89982b",
   "metadata": {},
   "outputs": [],
   "source": [
    "cnn.add(tf.keras.layers.Conv2D(filters=32, # Number of feature detectors.\n",
    "                              kernel_size=3,\n",
    "                              activation= 'relu',\n",
    "                              input_shape = [64,64,3] )) # Convolutional layer. Kernel size represent size of feature detect. Input_shape is (64x64, RGB)\n",
    "        "
   ]
  },
  {
   "cell_type": "markdown",
   "id": "0e2c0b61",
   "metadata": {},
   "source": [
    "### Pooling "
   ]
  },
  {
   "cell_type": "code",
   "execution_count": 8,
   "id": "513f0732",
   "metadata": {},
   "outputs": [
    {
     "name": "stdout",
     "output_type": "stream",
     "text": [
      "WARNING:tensorflow:From C:\\Users\\ibrah\\anaconda3\\lib\\site-packages\\keras\\src\\layers\\pooling\\max_pooling2d.py:161: The name tf.nn.max_pool is deprecated. Please use tf.nn.max_pool2d instead.\n",
      "\n"
     ]
    }
   ],
   "source": [
    "cnn.add(tf.keras.layers.MaxPool2D(pool_size= (2,2), # Pooling size\n",
    "                                 strides=2 # Shifting frame val.\n",
    "                                 )) # Pooling Layer"
   ]
  },
  {
   "cell_type": "markdown",
   "id": "86192faa",
   "metadata": {},
   "source": [
    "### Second Convolutional Layer "
   ]
  },
  {
   "cell_type": "code",
   "execution_count": 9,
   "id": "53d87e80",
   "metadata": {},
   "outputs": [],
   "source": [
    "cnn.add(tf.keras.layers.Conv2D(filters=32,\n",
    "                              kernel_size=3,\n",
    "                              activation= 'relu'))\n",
    "cnn.add(tf.keras.layers.MaxPool2D(pool_size= (2,2),\n",
    "                                 strides=2\n",
    "                                 ))"
   ]
  },
  {
   "cell_type": "markdown",
   "id": "ab4fded8",
   "metadata": {},
   "source": [
    "### Flattening"
   ]
  },
  {
   "cell_type": "code",
   "execution_count": 10,
   "id": "0773862d",
   "metadata": {},
   "outputs": [],
   "source": [
    "cnn.add(tf.keras.layers.Flatten())"
   ]
  },
  {
   "cell_type": "markdown",
   "id": "36216530",
   "metadata": {},
   "source": [
    "### Adding Fully Connected Layers"
   ]
  },
  {
   "cell_type": "code",
   "execution_count": 11,
   "id": "22ba5501",
   "metadata": {},
   "outputs": [],
   "source": [
    "cnn.add(tf.keras.layers.Dense(units=128, # We are choosing larger neuron numbers in CNN.\n",
    "                             activation='relu'))"
   ]
  },
  {
   "cell_type": "code",
   "execution_count": 12,
   "id": "2052b479",
   "metadata": {},
   "outputs": [],
   "source": [
    "cnn.add(tf.keras.layers.Dense(units=96,\n",
    "                             activation='relu'))"
   ]
  },
  {
   "cell_type": "markdown",
   "id": "97b3c9a2",
   "metadata": {},
   "source": [
    "### Output Layer "
   ]
  },
  {
   "cell_type": "code",
   "execution_count": 13,
   "id": "d12b2b1f",
   "metadata": {},
   "outputs": [],
   "source": [
    "cnn.add(tf.keras.layers.Dense(units=1,\n",
    "                             activation='sigmoid')) # Making units 1 and activation sigmoid because it's binary output. If it would be categorical, we would use softmax."
   ]
  },
  {
   "cell_type": "markdown",
   "id": "c387fb23",
   "metadata": {},
   "source": [
    "# Training the CNN "
   ]
  },
  {
   "cell_type": "markdown",
   "id": "67e2954d",
   "metadata": {},
   "source": [
    "### Compiling the CNN"
   ]
  },
  {
   "cell_type": "code",
   "execution_count": 14,
   "id": "2058570f",
   "metadata": {},
   "outputs": [
    {
     "name": "stdout",
     "output_type": "stream",
     "text": [
      "WARNING:tensorflow:From C:\\Users\\ibrah\\anaconda3\\lib\\site-packages\\keras\\src\\optimizers\\__init__.py:309: The name tf.train.Optimizer is deprecated. Please use tf.compat.v1.train.Optimizer instead.\n",
      "\n"
     ]
    }
   ],
   "source": [
    "cnn.compile(optimizer='Adam', loss='binary_crossentropy', metrics=['accuracy'])"
   ]
  },
  {
   "cell_type": "code",
   "execution_count": 15,
   "id": "04425a69",
   "metadata": {},
   "outputs": [
    {
     "name": "stdout",
     "output_type": "stream",
     "text": [
      "Epoch 1/25\n",
      "WARNING:tensorflow:From C:\\Users\\ibrah\\anaconda3\\lib\\site-packages\\keras\\src\\utils\\tf_utils.py:492: The name tf.ragged.RaggedTensorValue is deprecated. Please use tf.compat.v1.ragged.RaggedTensorValue instead.\n",
      "\n",
      "WARNING:tensorflow:From C:\\Users\\ibrah\\anaconda3\\lib\\site-packages\\keras\\src\\engine\\base_layer_utils.py:384: The name tf.executing_eagerly_outside_functions is deprecated. Please use tf.compat.v1.executing_eagerly_outside_functions instead.\n",
      "\n",
      "250/250 [==============================] - 71s 280ms/step - loss: 0.6557 - accuracy: 0.6035 - val_loss: 0.6089 - val_accuracy: 0.6675\n",
      "Epoch 2/25\n",
      "250/250 [==============================] - 27s 110ms/step - loss: 0.5957 - accuracy: 0.6839 - val_loss: 0.5703 - val_accuracy: 0.6990\n",
      "Epoch 3/25\n",
      "250/250 [==============================] - 27s 107ms/step - loss: 0.5514 - accuracy: 0.7214 - val_loss: 0.5177 - val_accuracy: 0.7500\n",
      "Epoch 4/25\n",
      "250/250 [==============================] - 29s 116ms/step - loss: 0.5291 - accuracy: 0.7300 - val_loss: 0.6177 - val_accuracy: 0.6870\n",
      "Epoch 5/25\n",
      "250/250 [==============================] - 28s 112ms/step - loss: 0.5083 - accuracy: 0.7499 - val_loss: 0.5045 - val_accuracy: 0.7580\n",
      "Epoch 6/25\n",
      "250/250 [==============================] - 28s 111ms/step - loss: 0.4865 - accuracy: 0.7713 - val_loss: 0.5128 - val_accuracy: 0.7565\n",
      "Epoch 7/25\n",
      "250/250 [==============================] - 28s 110ms/step - loss: 0.4715 - accuracy: 0.7812 - val_loss: 0.4783 - val_accuracy: 0.7820\n",
      "Epoch 8/25\n",
      "250/250 [==============================] - 26s 106ms/step - loss: 0.4558 - accuracy: 0.7810 - val_loss: 0.4788 - val_accuracy: 0.7745\n",
      "Epoch 9/25\n",
      "250/250 [==============================] - 27s 109ms/step - loss: 0.4399 - accuracy: 0.7976 - val_loss: 0.4854 - val_accuracy: 0.7755\n",
      "Epoch 10/25\n",
      "250/250 [==============================] - 27s 107ms/step - loss: 0.4301 - accuracy: 0.8014 - val_loss: 0.4844 - val_accuracy: 0.7835\n",
      "Epoch 11/25\n",
      "250/250 [==============================] - 29s 115ms/step - loss: 0.4108 - accuracy: 0.8129 - val_loss: 0.4898 - val_accuracy: 0.7755\n",
      "Epoch 12/25\n",
      "250/250 [==============================] - 30s 119ms/step - loss: 0.3886 - accuracy: 0.8290 - val_loss: 0.4637 - val_accuracy: 0.7895\n",
      "Epoch 13/25\n",
      "250/250 [==============================] - 28s 110ms/step - loss: 0.3840 - accuracy: 0.8253 - val_loss: 0.4936 - val_accuracy: 0.7815\n",
      "Epoch 14/25\n",
      "250/250 [==============================] - 28s 113ms/step - loss: 0.3709 - accuracy: 0.8341 - val_loss: 0.5030 - val_accuracy: 0.7845\n",
      "Epoch 15/25\n",
      "250/250 [==============================] - 28s 114ms/step - loss: 0.3480 - accuracy: 0.8494 - val_loss: 0.4959 - val_accuracy: 0.7760\n",
      "Epoch 16/25\n",
      "250/250 [==============================] - 30s 119ms/step - loss: 0.3309 - accuracy: 0.8545 - val_loss: 0.4838 - val_accuracy: 0.7945\n",
      "Epoch 17/25\n",
      "250/250 [==============================] - 26s 105ms/step - loss: 0.3319 - accuracy: 0.8558 - val_loss: 0.5154 - val_accuracy: 0.7945\n",
      "Epoch 18/25\n",
      "250/250 [==============================] - 26s 106ms/step - loss: 0.3078 - accuracy: 0.8668 - val_loss: 0.5146 - val_accuracy: 0.8025\n",
      "Epoch 19/25\n",
      "250/250 [==============================] - 27s 108ms/step - loss: 0.3013 - accuracy: 0.8720 - val_loss: 0.5007 - val_accuracy: 0.7995\n",
      "Epoch 20/25\n",
      "250/250 [==============================] - 27s 109ms/step - loss: 0.2883 - accuracy: 0.8832 - val_loss: 0.5235 - val_accuracy: 0.7895\n",
      "Epoch 21/25\n",
      "250/250 [==============================] - 30s 119ms/step - loss: 0.2662 - accuracy: 0.8878 - val_loss: 0.5329 - val_accuracy: 0.7845\n",
      "Epoch 22/25\n",
      "250/250 [==============================] - 29s 116ms/step - loss: 0.2724 - accuracy: 0.8846 - val_loss: 0.5612 - val_accuracy: 0.7765\n",
      "Epoch 23/25\n",
      "250/250 [==============================] - 27s 110ms/step - loss: 0.2520 - accuracy: 0.8964 - val_loss: 0.5495 - val_accuracy: 0.7860\n",
      "Epoch 24/25\n",
      "250/250 [==============================] - 27s 107ms/step - loss: 0.2403 - accuracy: 0.9013 - val_loss: 0.5328 - val_accuracy: 0.7945\n",
      "Epoch 25/25\n",
      "250/250 [==============================] - 26s 105ms/step - loss: 0.2189 - accuracy: 0.9086 - val_loss: 0.5970 - val_accuracy: 0.7855\n"
     ]
    },
    {
     "data": {
      "text/plain": [
       "<keras.src.callbacks.History at 0x26785624d00>"
      ]
     },
     "execution_count": 15,
     "metadata": {},
     "output_type": "execute_result"
    }
   ],
   "source": [
    "cnn.fit(training_set, validation_data = test_set, epochs=25) # Training the CNN on the Training set and evaluating it on the Test set."
   ]
  },
  {
   "cell_type": "markdown",
   "id": "3258a473",
   "metadata": {},
   "source": [
    "# Making a single prediction"
   ]
  },
  {
   "cell_type": "code",
   "execution_count": 17,
   "id": "e45f48c9",
   "metadata": {},
   "outputs": [],
   "source": [
    "from keras.preprocessing import image"
   ]
  },
  {
   "cell_type": "code",
   "execution_count": 20,
   "id": "65257546",
   "metadata": {},
   "outputs": [
    {
     "name": "stdout",
     "output_type": "stream",
     "text": [
      "1/1 [==============================] - 0s 20ms/step\n",
      "Dog\n"
     ]
    }
   ],
   "source": [
    "single_test_img = image.load_img('dataset/single_prediction/cat_or_dog_1.jpg', target_size= (64,64)) # Taking only one image from spesific path.\n",
    "single_test_img = image.img_to_array(single_test_img) # Converting our img to arr.\n",
    "single_test_img = np.expand_dims(single_test_img, axis=0)\n",
    "# training_set.class_indicess # To see which indices corresponds to which classes\n",
    "result = 'Dog' if cnn.predict(single_test_img) > 0.5 else 'Cat'\n",
    "print(result) # Printing the first index because we are accessing the batch."
   ]
  },
  {
   "cell_type": "code",
   "execution_count": null,
   "id": "dff6b275",
   "metadata": {},
   "outputs": [],
   "source": []
  }
 ],
 "metadata": {
  "kernelspec": {
   "display_name": "Python 3 (ipykernel)",
   "language": "python",
   "name": "python3"
  },
  "language_info": {
   "codemirror_mode": {
    "name": "ipython",
    "version": 3
   },
   "file_extension": ".py",
   "mimetype": "text/x-python",
   "name": "python",
   "nbconvert_exporter": "python",
   "pygments_lexer": "ipython3",
   "version": "3.9.13"
  }
 },
 "nbformat": 4,
 "nbformat_minor": 5
}
